{
  "nbformat": 4,
  "nbformat_minor": 0,
  "metadata": {
    "anaconda-cloud": {},
    "kernelspec": {
      "name": "python3",
      "display_name": "Python 3",
      "language": "python"
    },
    "language_info": {
      "name": "python",
      "version": "3.7.6",
      "mimetype": "text/x-python",
      "codemirror_mode": {
        "name": "ipython",
        "version": 3
      },
      "pygments_lexer": "ipython3",
      "nbconvert_exporter": "python",
      "file_extension": ".py"
    },
    "colab": {
      "name": "exemplo_little_women.ipynb",
      "provenance": [],
      "collapsed_sections": [],
      "include_colab_link": true
    }
  },
  "cells": [
    {
      "cell_type": "markdown",
      "metadata": {
        "id": "view-in-github",
        "colab_type": "text"
      },
      "source": [
        "<a href=\"https://colab.research.google.com/github/aprendadatascience/aprendendo-python/blob/master/exemplo_little_women.ipynb\" target=\"_parent\"><img src=\"https://colab.research.google.com/assets/colab-badge.svg\" alt=\"Open In Colab\"/></a>"
      ]
    },
    {
      "cell_type": "markdown",
      "metadata": {
        "id": "11KydwiyrMc8",
        "colab_type": "text"
      },
      "source": [
        "# Exemplo de Tratamento Inicial de Dados - \"Mulheres Adoráveis\""
      ]
    },
    {
      "cell_type": "code",
      "metadata": {
        "trusted": false,
        "id": "nRfKP0r3iJp_",
        "colab_type": "code",
        "colab": {}
      },
      "source": [
        "import numpy as np\n",
        "import matplotlib.pyplot as plt\n",
        "plots.style.use('fivethirtyeight')\n",
        "\n",
        "from urllib.request import urlopen \n",
        "import re\n",
        "def read_url(url): \n",
        "    return re.sub('\\\\s+', ' ', urlopen(url).read().decode())"
      ],
      "execution_count": 10,
      "outputs": []
    },
    {
      "cell_type": "markdown",
      "metadata": {
        "id": "_5ftamq9qXrY",
        "colab_type": "text"
      },
      "source": [
        "## Importação do Livro para o Colab"
      ]
    },
    {
      "cell_type": "code",
      "metadata": {
        "trusted": false,
        "id": "7o_jOTDCiJqC",
        "colab_type": "code",
        "colab": {}
      },
      "source": [
        "little_women_url = 'https://raw.githubusercontent.com/aprendadatascience/aprendendo-python/master/little_women.txt'\n",
        "little_women_text = read_url(little_women_url)\n",
        "chapters = little_women_text.split('CHAPTER ')[1:]"
      ],
      "execution_count": 21,
      "outputs": []
    },
    {
      "cell_type": "code",
      "metadata": {
        "id": "79N4rB12qdZn",
        "colab_type": "code",
        "colab": {
          "base_uri": "https://localhost:8080/",
          "height": 34
        },
        "outputId": "9e60451d-701e-4c29-88c6-beb97ff5ca14"
      },
      "source": [
        "print(chapters)"
      ],
      "execution_count": 19,
      "outputs": [
        {
          "output_type": "stream",
          "text": [
            "[]\n"
          ],
          "name": "stdout"
        }
      ]
    },
    {
      "cell_type": "code",
      "metadata": {
        "trusted": false,
        "id": "aEzUyQUMiJqF",
        "colab_type": "code",
        "colab": {
          "base_uri": "https://localhost:8080/",
          "height": 49
        },
        "outputId": "bac99838-2d71-49c4-901f-2479c5b109d6"
      },
      "source": [
        "Table().with_column('Text', chapters)"
      ],
      "execution_count": 20,
      "outputs": [
        {
          "output_type": "execute_result",
          "data": {
            "text/html": [
              "<table border=\"1\" class=\"dataframe\">\n",
              "    <thead>\n",
              "        <tr>\n",
              "            <th>Text</th>\n",
              "        </tr>\n",
              "    </thead>\n",
              "    <tbody>\n",
              "    </tbody>\n",
              "</table>"
            ],
            "text/plain": [
              "Text"
            ]
          },
          "metadata": {
            "tags": []
          },
          "execution_count": 20
        }
      ]
    },
    {
      "cell_type": "markdown",
      "metadata": {
        "id": "kuhzeS7oqqRd",
        "colab_type": "text"
      },
      "source": [
        "## O livro é sobre o Natal?"
      ]
    },
    {
      "cell_type": "code",
      "metadata": {
        "trusted": false,
        "id": "y5c0DFhCiJqI",
        "colab_type": "code",
        "colab": {
          "base_uri": "https://localhost:8080/",
          "height": 68
        },
        "outputId": "8592852b-2939-4dd2-94ed-927e1fcd4b33"
      },
      "source": [
        "np.char.count(chapters, 'Christmas')"
      ],
      "execution_count": 5,
      "outputs": [
        {
          "output_type": "execute_result",
          "data": {
            "text/plain": [
              "array([8, 9, 1, 1, 1, 0, 0, 0, 0, 0, 0, 0, 0, 0, 0, 0, 0, 0, 0, 0, 0, 8,\n",
              "       0, 0, 0, 0, 0, 0, 0, 0, 0, 0, 2, 0, 0, 0, 6, 0, 0, 0, 1, 0, 0, 0,\n",
              "       0, 0, 0])"
            ]
          },
          "metadata": {
            "tags": []
          },
          "execution_count": 5
        }
      ]
    },
    {
      "cell_type": "markdown",
      "metadata": {
        "id": "7rlryfqfsFzF",
        "colab_type": "text"
      },
      "source": [
        "## Podemos concluir que o Livro discute sobre o Natal(Christmas) nos primeiros capítulos e depois novamente no meio. Por que?"
      ]
    },
    {
      "cell_type": "markdown",
      "metadata": {
        "id": "Gs4qCAh8qE96",
        "colab_type": "text"
      },
      "source": [
        "# Nome das irmãs: Jo, Meg, Amy e Beth\n",
        "## Vizinha: Laurie"
      ]
    },
    {
      "cell_type": "code",
      "metadata": {
        "trusted": false,
        "id": "lGyOtY2liJqK",
        "colab_type": "code",
        "colab": {
          "base_uri": "https://localhost:8080/",
          "height": 68
        },
        "outputId": "a8702526-7961-4b7c-8d4e-88d1b2e3c4d5"
      },
      "source": [
        "np.char.count(chapters, 'Jo')"
      ],
      "execution_count": 6,
      "outputs": [
        {
          "output_type": "execute_result",
          "data": {
            "text/plain": [
              "array([44, 21, 62, 34, 55, 13,  9, 71, 21, 12, 42, 60, 24, 48, 26, 13, 29,\n",
              "       35,  5, 29, 67, 17, 51, 36, 12, 17, 28, 69, 49, 39,  7, 60,  2, 55,\n",
              "       42, 35,  5, 47, 15, 15, 17, 36, 61,  9,  6, 56, 37])"
            ]
          },
          "metadata": {
            "tags": []
          },
          "execution_count": 6
        }
      ]
    },
    {
      "cell_type": "code",
      "metadata": {
        "trusted": false,
        "id": "ChNaHLjciJqM",
        "colab_type": "code",
        "colab": {
          "base_uri": "https://localhost:8080/",
          "height": 388
        },
        "outputId": "b8c49408-32f5-430e-858e-00f1e72b6de8"
      },
      "source": [
        "Table().with_columns(\n",
        "    'Jo', np.char.count(chapters, 'Jo'),\n",
        "    'Meg', np.char.count(chapters, 'Meg'),\n",
        "    'Amy', np.char.count(chapters, 'Amy'),\n",
        "    'Beth', np.char.count(chapters, 'Beth'),\n",
        "    'Laurie', np.char.count(chapters, 'Laurie')\n",
        ")"
      ],
      "execution_count": 7,
      "outputs": [
        {
          "output_type": "execute_result",
          "data": {
            "text/html": [
              "<table border=\"1\" class=\"dataframe\">\n",
              "    <thead>\n",
              "        <tr>\n",
              "            <th>Jo</th> <th>Meg</th> <th>Amy</th> <th>Beth</th> <th>Laurie</th>\n",
              "        </tr>\n",
              "    </thead>\n",
              "    <tbody>\n",
              "        <tr>\n",
              "            <td>44  </td> <td>26  </td> <td>23  </td> <td>26  </td> <td>0     </td>\n",
              "        </tr>\n",
              "        <tr>\n",
              "            <td>21  </td> <td>20  </td> <td>13  </td> <td>12  </td> <td>0     </td>\n",
              "        </tr>\n",
              "        <tr>\n",
              "            <td>62  </td> <td>36  </td> <td>2   </td> <td>2   </td> <td>16    </td>\n",
              "        </tr>\n",
              "        <tr>\n",
              "            <td>34  </td> <td>17  </td> <td>14  </td> <td>18  </td> <td>0     </td>\n",
              "        </tr>\n",
              "        <tr>\n",
              "            <td>55  </td> <td>13  </td> <td>6   </td> <td>14  </td> <td>35    </td>\n",
              "        </tr>\n",
              "        <tr>\n",
              "            <td>13  </td> <td>5   </td> <td>6   </td> <td>28  </td> <td>9     </td>\n",
              "        </tr>\n",
              "        <tr>\n",
              "            <td>9   </td> <td>5   </td> <td>27  </td> <td>5   </td> <td>7     </td>\n",
              "        </tr>\n",
              "        <tr>\n",
              "            <td>71  </td> <td>16  </td> <td>48  </td> <td>9   </td> <td>17    </td>\n",
              "        </tr>\n",
              "        <tr>\n",
              "            <td>21  </td> <td>71  </td> <td>3   </td> <td>5   </td> <td>24    </td>\n",
              "        </tr>\n",
              "        <tr>\n",
              "            <td>12  </td> <td>4   </td> <td>5   </td> <td>5   </td> <td>4     </td>\n",
              "        </tr>\n",
              "    </tbody>\n",
              "</table>\n",
              "<p>... (37 rows omitted)</p>"
            ],
            "text/plain": [
              "Jo   | Meg  | Amy  | Beth | Laurie\n",
              "44   | 26   | 23   | 26   | 0\n",
              "21   | 20   | 13   | 12   | 0\n",
              "62   | 36   | 2    | 2    | 16\n",
              "34   | 17   | 14   | 18   | 0\n",
              "55   | 13   | 6    | 14   | 35\n",
              "13   | 5    | 6    | 28   | 9\n",
              "9    | 5    | 27   | 5    | 7\n",
              "71   | 16   | 48   | 9    | 17\n",
              "21   | 71   | 3    | 5    | 24\n",
              "12   | 4    | 5    | 5    | 4\n",
              "... (37 rows omitted)"
            ]
          },
          "metadata": {
            "tags": []
          },
          "execution_count": 7
        }
      ]
    },
    {
      "cell_type": "markdown",
      "metadata": {
        "id": "2nfWcfCaiJqP",
        "colab_type": "text"
      },
      "source": [
        "## Visualização Acumulativa"
      ]
    },
    {
      "cell_type": "code",
      "metadata": {
        "trusted": false,
        "id": "bxcib-5IiJqP",
        "colab_type": "code",
        "colab": {
          "base_uri": "https://localhost:8080/",
          "height": 263
        },
        "outputId": "040a7ca5-63eb-440c-8c34-4d4a0c10a542"
      },
      "source": [
        "Table().with_columns(\n",
        "    'Jo', np.char.count(chapters, 'Jo'),\n",
        "    'Meg', np.char.count(chapters, 'Meg'),\n",
        "    'Amy', np.char.count(chapters, 'Amy'),\n",
        "    'Beth', np.char.count(chapters, 'Beth'),\n",
        "    'Laurie', np.char.count(chapters, 'Laurie')\n",
        ").cumsum().plot()"
      ],
      "execution_count": 8,
      "outputs": [
        {
          "output_type": "display_data",
          "data": {
            "image/png": "[encoded data removed]",
            "text/plain": [
              "<Figure size 432x288 with 1 Axes>"
            ]
          },
          "metadata": {
            "tags": [],
            "needs_background": "light"
          }
        }
      ]
    }
  ]
}